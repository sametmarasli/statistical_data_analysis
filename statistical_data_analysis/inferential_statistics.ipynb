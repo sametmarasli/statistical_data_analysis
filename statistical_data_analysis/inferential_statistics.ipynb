{
 "cells": [
  {
   "cell_type": "code",
   "execution_count": 19,
   "metadata": {
    "collapsed": true
   },
   "outputs": [],
   "source": [
    "import pandas as pd\n",
    "import numpy as np\n",
    "import matplotlib.pyplot as plt\n",
    "import seaborn as sns\n",
    "from scipy.stats import norm\n",
    "%matplotlib inline"
   ]
  },
  {
   "cell_type": "markdown",
   "metadata": {},
   "source": [
    "## Inferential Statistics"
   ]
  },
  {
   "cell_type": "markdown",
   "metadata": {},
   "source": [
    "## 8 - Estimation"
   ]
  },
  {
   "cell_type": "markdown",
   "metadata": {},
   "source": [
    "#### Confidence Intervals"
   ]
  },
  {
   "cell_type": "markdown",
   "metadata": {},
   "source": [
    "<img src=\"ss\\MOE.png\",width=\"500\" height=\"500\" />"
   ]
  },
  {
   "cell_type": "code",
   "execution_count": 20,
   "metadata": {
    "collapsed": true
   },
   "outputs": [],
   "source": [
    "def CI(xbar_I,z_score,SE):\n",
    "    '''\n",
    "    CI(xbar_I,z_score,SE)\n",
    "    Calculates the confidence interval\n",
    "    '''\n",
    "    return (xbar_I-z_score*SE , xbar_I+z_score*SE)"
   ]
  },
  {
   "cell_type": "markdown",
   "metadata": {},
   "source": [
    "##### Critical values of z for different CI"
   ]
  },
  {
   "cell_type": "code",
   "execution_count": 21,
   "metadata": {
    "collapsed": false
   },
   "outputs": [
    {
     "data": {
      "text/plain": [
       "(1.96, 2.33)"
      ]
     },
     "execution_count": 21,
     "metadata": {},
     "output_type": "execute_result"
    }
   ],
   "source": [
    "z_95 = round(norm.ppf(0.975),2)\n",
    "z_98 = round(norm.ppf(0.99),2)\n",
    "z_95, z_98"
   ]
  },
  {
   "cell_type": "markdown",
   "metadata": {},
   "source": [
    "###### Data : Klout Scores"
   ]
  },
  {
   "cell_type": "code",
   "execution_count": 22,
   "metadata": {
    "collapsed": false
   },
   "outputs": [
    {
     "name": "stdout",
     "output_type": "stream",
     "text": [
      "95% Confidence interval is (34.6884, 45.3116)\n",
      "If everyone uses Bieber twitter, the population mean could range between these values\n",
      "\n",
      "A sample with size 35 and mean 40 could have selected by random chance\n",
      "since 37.72 is between (34.6884, 45.3116)\n"
     ]
    }
   ],
   "source": [
    "df = pd.read_csv('data/Klout scores (Lesson 7) - Sheet1.csv',usecols=([0]), header=None)\n",
    "mu = round(df.mean(),2)\n",
    "\n",
    "n = 35\n",
    "xbar_bieber = 40 # point estimate\n",
    "SE_35 = round(df.std(ddof=1)/np.sqrt(n),2)\n",
    "\n",
    "print '95% Confidence interval is {}'.format(CI(xbar_bieber,z_95,SE_35))\n",
    "print 'If everyone uses Bieber twitter, the population mean could range between these values\\n'\n",
    "print 'A sample with size {} and mean 40 could have selected by random chance'.format(n)\n",
    "print 'since {} is between {}'.format(mu,CI(xbar_bieber,z_95,SE_35))"
   ]
  },
  {
   "cell_type": "markdown",
   "metadata": {},
   "source": [
    "<img src=\"ss\\CI.png\",width=\"500\" height=\"500\" />"
   ]
  },
  {
   "cell_type": "code",
   "execution_count": 23,
   "metadata": {
    "collapsed": false
   },
   "outputs": [
    {
     "name": "stdout",
     "output_type": "stream",
     "text": [
      "95% Confidence interval is (38.0204, 41.9796)\n",
      "If everyone uses Bieber twitter, the population mean could range between these values\n",
      "\n",
      "A sample with size 250 and mean 40 could NOT have selected by random chance\n",
      "since 37.72 is NOT between (38.0204, 41.9796)\n",
      "\n",
      "This is evidence for treatment effect\n"
     ]
    }
   ],
   "source": [
    "n = 250\n",
    "xbar_bieber = 40\n",
    "SE_250 = round(df.std(ddof=1)/np.sqrt(n),2)\n",
    "\n",
    "print '95% Confidence interval is {}'.format(CI(xbar_bieber,z_95,SE_250))\n",
    "print 'If everyone uses Bieber twitter, the population mean could range between these values\\n'\n",
    "print 'A sample with size {} and mean 40 could NOT have selected by random chance'.format(n)\n",
    "print 'since {} is NOT between {}\\n'.format(mu,CI(xbar_bieber,z_95,SE_250))\n",
    "print 'This is evidence for treatment effect'"
   ]
  },
  {
   "cell_type": "markdown",
   "metadata": {},
   "source": [
    "##### Comment on Sample Size and CI"
   ]
  },
  {
   "cell_type": "markdown",
   "metadata": {},
   "source": [
    "So with a bigger sample size we have a smaller interval for which we re pretty sure the true population mean lies.\n",
    "The greater our sample size, the smaller our confidence interval for the true population perameter after the intervention. And the better we are able to estimate our population parameters."
   ]
  },
  {
   "cell_type": "code",
   "execution_count": 24,
   "metadata": {
    "collapsed": false
   },
   "outputs": [
    {
     "name": "stdout",
     "output_type": "stream",
     "text": [
      "98% Confidence interval is (37.6467, 42.3533)\n",
      "If everyone uses Bieber twitter, the population mean could range between these values\n",
      "\n",
      "A sample with size 250 and mean 40 could have selected by random chance\n",
      "since 37.72 is between (37.6467, 42.3533)\n",
      "\n",
      "We have a slightly bigger interval but we are also more sure\n",
      "that the true population mean will be in this interval\n"
     ]
    }
   ],
   "source": [
    "print '98% Confidence interval is {}'.format(CI(xbar_bieber,z_98,SE_250))\n",
    "print 'If everyone uses Bieber twitter, the population mean could range between these values\\n'\n",
    "print 'A sample with size {} and mean 40 could have selected by random chance'.format(n)\n",
    "print 'since {} is between {}\\n'.format(mu,CI(xbar_bieber,z_98,SE_250))\n",
    "print 'We have a slightly bigger interval but we are also more sure' \n",
    "print 'that the true population mean will be in this interval'"
   ]
  },
  {
   "cell_type": "markdown",
   "metadata": {},
   "source": [
    "###### Data : Engagement Ratio"
   ]
  },
  {
   "cell_type": "code",
   "execution_count": 25,
   "metadata": {
    "collapsed": false
   },
   "outputs": [
    {
     "name": "stdout",
     "output_type": "stream",
     "text": [
      "\n",
      "Engagement Ratio = Number of Minutes Wathced / Total Minutes Available\n",
      "\n"
     ]
    },
    {
     "data": {
      "text/plain": [
       "<matplotlib.text.Text at 0x7fd77851da50>"
      ]
     },
     "execution_count": 25,
     "metadata": {},
     "output_type": "execute_result"
    },
    {
     "data": {
      "image/png": "[encoded data removed]",
      "text/plain": [
       "<matplotlib.figure.Figure at 0x7fd775f67a90>"
      ]
     },
     "metadata": {},
     "output_type": "display_data"
    }
   ],
   "source": [
    "df = pd.read_csv('data/Engagement ratio - Lesson 8 - Sheet1.csv',usecols=([0]), header=None)\n",
    "\n",
    "print '\\nEngagement Ratio = Number of Minutes Wathced / Total Minutes Available\\n'\n",
    "plt.figure(figsize=(7,4))\n",
    "plt.hist(df,bins=20)\n",
    "plt.ylim([0,5000])\n",
    "plt.xlabel('Ratio');\n",
    "plt.ylabel('Frequency')"
   ]
  },
  {
   "cell_type": "code",
   "execution_count": 26,
   "metadata": {
    "collapsed": false
   },
   "outputs": [
    {
     "name": "stdout",
     "output_type": "stream",
     "text": [
      "Population mean = 0.077 and standart deviation = 0.107\n"
     ]
    }
   ],
   "source": [
    "mu =  round(df.mean(),3)\n",
    "sd = round(df.std(),3)\n",
    "print 'Population mean = {} and standart deviation = {}'.format(mu,sd)"
   ]
  },
  {
   "cell_type": "markdown",
   "metadata": {},
   "source": [
    "Case#1 : 20 students have access to a lesson contains a song about hypothesis testing "
   ]
  },
  {
   "cell_type": "code",
   "execution_count": 27,
   "metadata": {
    "collapsed": false
   },
   "outputs": [],
   "source": [
    "n=20\n",
    "# Point estimate for the population is equal to xbar_song\n",
    "xbar_song = 0.13 "
   ]
  },
  {
   "cell_type": "markdown",
   "metadata": {},
   "source": [
    "<img src=\"ss\\EngagementR.png\",width=\"500\" height=\"500\" />"
   ]
  },
  {
   "cell_type": "code",
   "execution_count": 28,
   "metadata": {
    "collapsed": false
   },
   "outputs": [
    {
     "name": "stdout",
     "output_type": "stream",
     "text": [
      "95% Confidence interval is (0.08296, 0.17704)\n",
      "If the prof adds the lesson with song, the population mean could range between these values\n",
      "\n",
      "A sample with size 20 and mean 0.13 could NOT have selected by random chance\n",
      "since 0.077 is NOT between (0.08296, 0.17704)\n",
      "\n",
      "This is evidence for treatment effect\n"
     ]
    }
   ],
   "source": [
    "# Interval estimate\n",
    "SE = round(sd/np.sqrt(20),3)\n",
    "print '95% Confidence interval is {}'.format(CI(xbar_song,z_95,SE))\n",
    "print 'If the prof adds the lesson with song, the population mean could range between these values\\n'\n",
    "print 'A sample with size {} and mean {} could NOT have selected by random chance'.format(n,xbar_song)\n",
    "print 'since {} is NOT between {}\\n'.format(mu,CI(xbar_song,z_95,SE))\n",
    "print 'This is evidence for treatment effect'"
   ]
  },
  {
   "cell_type": "markdown",
   "metadata": {},
   "source": [
    "Case#2\n",
    "<img src=\"ss\\CASE2.png\",width=\"600\" height=\"600\" />\n",
    "\n",
    "There is evidence to suggest that the song seems to have had an effect on engagement, but not on learning."
   ]
  },
  {
   "cell_type": "markdown",
   "metadata": {
    "collapsed": true
   },
   "source": [
    "## 9 - Hypothesis Testing"
   ]
  },
  {
   "cell_type": "markdown",
   "metadata": {},
   "source": [
    "#### One-Tailed Critical Values\n",
    "<img src=\"ss\\critical.png\",width=\"600\" height=\"600\" />"
   ]
  },
  {
   "cell_type": "code",
   "execution_count": 29,
   "metadata": {
    "collapsed": false
   },
   "outputs": [
    {
     "data": {
      "text/plain": [
       "(1.64, 2.33, 3.09)"
      ]
     },
     "execution_count": 29,
     "metadata": {},
     "output_type": "execute_result"
    }
   ],
   "source": [
    "zstar_5 = round(norm.ppf(0.95),2) # z critical value for alpha level 0.05\n",
    "zstar_1 = round(norm.ppf(0.99),2) # z critical value for alpha level 0.01\n",
    "zstar_01 = round(norm.ppf(0.999),2) # z critical value for alpha level 0.001\n",
    "zstar_5,zstar_1,zstar_01"
   ]
  },
  {
   "cell_type": "code",
   "execution_count": 30,
   "metadata": {
    "collapsed": false
   },
   "outputs": [
    {
     "data": {
      "text/plain": [
       "-2.5854535989841327"
      ]
     },
     "execution_count": 30,
     "metadata": {},
     "output_type": "execute_result"
    }
   ],
   "source": [
    "(7.13-7.5)/(.64/(np.sqrt(20)))"
   ]
  },
  {
   "cell_type": "markdown",
   "metadata": {},
   "source": [
    "#### Two-Tailed Critical Values\n",
    "<img src=\"ss\\hypotesis.png\",width=\"600\" height=\"600\" />"
   ]
  },
  {
   "cell_type": "code",
   "execution_count": 31,
   "metadata": {
    "collapsed": false
   },
   "outputs": [
    {
     "data": {
      "text/plain": [
       "(1.96, 2.58, 3.29)"
      ]
     },
     "execution_count": 31,
     "metadata": {},
     "output_type": "execute_result"
    }
   ],
   "source": [
    "ztstar_5 = round(norm.ppf(0.975),2) # z critical value for alpha level 0.05\n",
    "ztstar_1 = round(norm.ppf(0.995),2) # z critical value for alpha level 0.01\n",
    "ztstar_01 = round(norm.ppf(0.9995),2) # z critical value for alpha level 0.001\n",
    "ztstar_5,ztstar_1,ztstar_01"
   ]
  },
  {
   "cell_type": "markdown",
   "metadata": {},
   "source": [
    "###### Engagement and Learning Results"
   ]
  },
  {
   "cell_type": "code",
   "execution_count": 32,
   "metadata": {
    "collapsed": false
   },
   "outputs": [
    {
     "data": {
      "text/html": [
       "<div>\n",
       "<table border=\"1\" class=\"dataframe\">\n",
       "  <thead>\n",
       "    <tr style=\"text-align: right;\">\n",
       "      <th></th>\n",
       "      <th>Please rank how engaged you are in Stats 95 on a scale from 1 to 10.</th>\n",
       "      <th>Please rank how much you think you're learning in Stats 95 on a scale from 1 to 10.</th>\n",
       "    </tr>\n",
       "  </thead>\n",
       "  <tbody>\n",
       "    <tr>\n",
       "      <th>0</th>\n",
       "      <td>10.0</td>\n",
       "      <td>10.0</td>\n",
       "    </tr>\n",
       "    <tr>\n",
       "      <th>1</th>\n",
       "      <td>10.0</td>\n",
       "      <td>10.0</td>\n",
       "    </tr>\n",
       "    <tr>\n",
       "      <th>2</th>\n",
       "      <td>7.0</td>\n",
       "      <td>8.0</td>\n",
       "    </tr>\n",
       "    <tr>\n",
       "      <th>3</th>\n",
       "      <td>8.0</td>\n",
       "      <td>9.0</td>\n",
       "    </tr>\n",
       "    <tr>\n",
       "      <th>4</th>\n",
       "      <td>9.0</td>\n",
       "      <td>9.0</td>\n",
       "    </tr>\n",
       "  </tbody>\n",
       "</table>\n",
       "</div>"
      ],
      "text/plain": [
       "   Please rank how engaged you are in Stats 95 on a scale from 1 to 10.  \\\n",
       "0                                               10.0                      \n",
       "1                                               10.0                      \n",
       "2                                                7.0                      \n",
       "3                                                8.0                      \n",
       "4                                                9.0                      \n",
       "\n",
       "   Please rank how much you think you're learning in Stats 95 on a scale from 1 to 10.  \n",
       "0                                               10.0                                    \n",
       "1                                               10.0                                    \n",
       "2                                                8.0                                    \n",
       "3                                                9.0                                    \n",
       "4                                                9.0                                    "
      ]
     },
     "execution_count": 32,
     "metadata": {},
     "output_type": "execute_result"
    }
   ],
   "source": [
    "df = pd.read_csv('data/Engagement and Learning Results - Lesson 9 - Sheet1.csv',usecols=([1,2]))\n",
    "df.head()"
   ]
  },
  {
   "cell_type": "code",
   "execution_count": 33,
   "metadata": {
    "collapsed": false
   },
   "outputs": [
    {
     "data": {
      "image/png": "[encoded data removed]",
      "text/plain": [
       "<matplotlib.figure.Figure at 0x7fd775665d50>"
      ]
     },
     "metadata": {},
     "output_type": "display_data"
    }
   ],
   "source": [
    "# change the name of the columns\n",
    "df.columns= ['Engagement','Learning']\n",
    "\n",
    "fig,ax = plt.subplots(1,2,figsize=(14,4))\n",
    "ax[0].hist(df['Engagement'],color='red')\n",
    "ax[0].set_axis_bgcolor('white') # change backgroud color\n",
    "ax[0].set_title('Engagement')\n",
    "ax[0].set_xlabel('Score')\n",
    "ax[0].set_xlim([1,10])\n",
    "\n",
    "ax[1].hist(df[\"Learning\"])\n",
    "ax[1].set_title('Learning')\n",
    "ax[1].set_xlabel('Score')\n",
    "ax[1].set_xlim([1,10]);"
   ]
  },
  {
   "cell_type": "code",
   "execution_count": 34,
   "metadata": {
    "collapsed": false
   },
   "outputs": [
    {
     "data": {
      "text/plain": [
       "(7.47, 2.42)"
      ]
     },
     "execution_count": 34,
     "metadata": {},
     "output_type": "execute_result"
    }
   ],
   "source": [
    "mu = round(df['Engagement'].mean(),2)\n",
    "sigma = round(df['Engagement'].std(ddof=1),2)\n",
    "mu,sigma"
   ]
  },
  {
   "cell_type": "code",
   "execution_count": 35,
   "metadata": {
    "collapsed": false
   },
   "outputs": [
    {
     "name": "stdout",
     "output_type": "stream",
     "text": [
      "Since 1.88 is less than the z critical 1.96\n",
      "we fail to reject the null hypothesis\n"
     ]
    }
   ],
   "source": [
    "# a = 0.05\n",
    "# H_null : mu = mui\n",
    "# H_alternative : mu != mui\n",
    "n = 30\n",
    "SE = sigma/np.sqrt(n)\n",
    "xbar_song = 8.3\n",
    "zscore = round((xbar_song-mu)/SE,2)\n",
    "print 'Since {} is less than the z critical {}'.format(zscore,ztstar_5)\n",
    "print 'we fail to reject the null hypothesis'"
   ]
  },
  {
   "cell_type": "markdown",
   "metadata": {},
   "source": [
    "- Engagement would be the same after the song based on our sample"
   ]
  },
  {
   "cell_type": "code",
   "execution_count": 36,
   "metadata": {
    "collapsed": false
   },
   "outputs": [
    {
     "name": "stdout",
     "output_type": "stream",
     "text": [
      "Since 2.43 is more than the z critical 1.96\n",
      "we reject the null hypothesis\n",
      "\n",
      "The likelohood of randomly selecting from the untreated (without song) population\n",
      "a sample of size 50 and whose mean is at least 8.3 is 0.765%\n"
     ]
    }
   ],
   "source": [
    "n = 50\n",
    "SE = sigma/np.sqrt(n)\n",
    "zscore = round((xbar_song-mu)/SE,2)\n",
    "\n",
    "print 'Since {} is more than the z critical {}'.format(zscore,ztstar_5)\n",
    "print 'we reject the null hypothesis\\n'\n",
    "print 'The likelohood of randomly selecting from the untreated (without song) population'\n",
    "print 'a sample of size {} and whose mean is at least {} is {}%'.format(n,xbar_song,round(norm.sf(xbar_song,mu,SE),5)*100)"
   ]
  },
  {
   "cell_type": "markdown",
   "metadata": {},
   "source": [
    "- There is evidence to believe that the song had affect on the engamement\n",
    "- p < 0.05 means thhe probability of obtaining this mean 8.3 from a sample of size 50 is less than the alpha level\n",
    "- This mean probably comes from a different distribution, the treated population.\n",
    "- We believe that the treatment had an affect. Of course, it is possible that we made a decision error, null hypothesis is true and the only reason we got this sample mean (8.3) is due to chance. Because, there is .765% chance that we got at least 8.3 sample mean. However the chance is very small, smaller than the alpha level .05"
   ]
  },
  {
   "cell_type": "markdown",
   "metadata": {},
   "source": [
    "#### Decision Errors\n",
    "<img src=\"ss\\decisionerrors.png\",width=\"500\" height=\"500\" />"
   ]
  },
  {
   "cell_type": "code",
   "execution_count": null,
   "metadata": {
    "collapsed": true
   },
   "outputs": [],
   "source": []
  },
  {
   "cell_type": "code",
   "execution_count": null,
   "metadata": {
    "collapsed": true
   },
   "outputs": [],
   "source": []
  },
  {
   "cell_type": "code",
   "execution_count": null,
   "metadata": {
    "collapsed": true
   },
   "outputs": [],
   "source": []
  },
  {
   "cell_type": "code",
   "execution_count": null,
   "metadata": {
    "collapsed": true
   },
   "outputs": [],
   "source": []
  },
  {
   "cell_type": "code",
   "execution_count": null,
   "metadata": {
    "collapsed": true
   },
   "outputs": [],
   "source": []
  }
 ],
 "metadata": {
  "kernelspec": {
   "display_name": "Python [Root]",
   "language": "python",
   "name": "Python [Root]"
  },
  "language_info": {
   "codemirror_mode": {
    "name": "ipython",
    "version": 2
   },
   "file_extension": ".py",
   "mimetype": "text/x-python",
   "name": "python",
   "nbconvert_exporter": "python",
   "pygments_lexer": "ipython2",
   "version": "2.7.12"
  }
 },
 "nbformat": 4,
 "nbformat_minor": 0
}
