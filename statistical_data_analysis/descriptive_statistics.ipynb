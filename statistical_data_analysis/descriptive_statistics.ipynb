{
 "cells": [
  {
   "cell_type": "code",
   "execution_count": 1,
   "metadata": {
    "collapsed": true
   },
   "outputs": [],
   "source": [
    "import pandas as pd\n",
    "import numpy as np\n",
    "import matplotlib.pyplot as plt\n",
    "%matplotlib inline"
   ]
  },
  {
   "cell_type": "markdown",
   "metadata": {},
   "source": [
    "## Descriptive Statistics"
   ]
  },
  {
   "cell_type": "markdown",
   "metadata": {},
   "source": [
    "## 1 - Intro to Research Methods"
   ]
  },
  {
   "cell_type": "markdown",
   "metadata": {},
   "source": [
    "###### Data : Relationship between hand lenght and height"
   ]
  },
  {
   "cell_type": "code",
   "execution_count": 2,
   "metadata": {
    "collapsed": false
   },
   "outputs": [
    {
     "name": "stdout",
     "output_type": "stream",
     "text": [
      "Index([u'Hand length (in)', u'Height (in)', u'Gender'], dtype='object')\n"
     ]
    },
    {
     "data": {
      "text/html": [
       "<div>\n",
       "<table border=\"1\" class=\"dataframe\">\n",
       "  <thead>\n",
       "    <tr style=\"text-align: right;\">\n",
       "      <th></th>\n",
       "      <th>Hand length (in)</th>\n",
       "      <th>Height (in)</th>\n",
       "      <th>Gender</th>\n",
       "    </tr>\n",
       "  </thead>\n",
       "  <tbody>\n",
       "    <tr>\n",
       "      <th>0</th>\n",
       "      <td>7.5000</td>\n",
       "      <td>71.0</td>\n",
       "      <td>M</td>\n",
       "    </tr>\n",
       "    <tr>\n",
       "      <th>1</th>\n",
       "      <td>7.6250</td>\n",
       "      <td>68.5</td>\n",
       "      <td>M</td>\n",
       "    </tr>\n",
       "    <tr>\n",
       "      <th>2</th>\n",
       "      <td>7.5625</td>\n",
       "      <td>67.0</td>\n",
       "      <td>M</td>\n",
       "    </tr>\n",
       "    <tr>\n",
       "      <th>3</th>\n",
       "      <td>7.0000</td>\n",
       "      <td>61.0</td>\n",
       "      <td>F</td>\n",
       "    </tr>\n",
       "    <tr>\n",
       "      <th>4</th>\n",
       "      <td>7.6250</td>\n",
       "      <td>67.0</td>\n",
       "      <td>F</td>\n",
       "    </tr>\n",
       "  </tbody>\n",
       "</table>\n",
       "</div>"
      ],
      "text/plain": [
       "   Hand length (in)  Height (in) Gender\n",
       "0            7.5000         71.0      M\n",
       "1            7.6250         68.5      M\n",
       "2            7.5625         67.0      M\n",
       "3            7.0000         61.0      F\n",
       "4            7.6250         67.0      F"
      ]
     },
     "execution_count": 2,
     "metadata": {},
     "output_type": "execute_result"
    }
   ],
   "source": [
    "df = pd.read_csv('data/Height and hand length of Udacians - Lesson 1 - Sheet1.csv')\n",
    "print df.columns\n",
    "df.head()"
   ]
  },
  {
   "cell_type": "code",
   "execution_count": 3,
   "metadata": {
    "collapsed": false
   },
   "outputs": [
    {
     "data": {
      "image/png": "[encoded data removed]",
      "text/plain": [
       "<matplotlib.figure.Figure at 0x7fb7b0fc3610>"
      ]
     },
     "metadata": {},
     "output_type": "display_data"
    }
   ],
   "source": [
    "fig,ax = plt.subplots(figsize=(7,4))\n",
    "ax.scatter(df['Hand length (in)'],df['Height (in)'])\n",
    "ax.set_ylabel('Height (in)')\n",
    "ax.set_xlabel('Hand length (in)');"
   ]
  },
  {
   "cell_type": "markdown",
   "metadata": {},
   "source": [
    "## 2 - Visualising Data"
   ]
  },
  {
   "cell_type": "markdown",
   "metadata": {},
   "source": [
    "#### Histogram & Different Bin Sizes"
   ]
  },
  {
   "cell_type": "markdown",
   "metadata": {},
   "source": [
    "###### Data: Udacity Student Ages Data"
   ]
  },
  {
   "cell_type": "code",
   "execution_count": 4,
   "metadata": {
    "collapsed": false
   },
   "outputs": [
    {
     "data": {
      "image/png": "[encoded data removed]",
      "text/plain": [
       "<matplotlib.figure.Figure at 0x7fb7aea20a90>"
      ]
     },
     "metadata": {},
     "output_type": "display_data"
    }
   ],
   "source": [
    "df = pd.read_csv('data/Udacity Student Ages Data - Sheet1.csv', header=None)\n",
    "df = pd.DataFrame(df.values.ravel())\n",
    "\n",
    "fig,ax = plt.subplots(1,2,figsize=(14,4))\n",
    "ax[0].hist(df,bins=20,color='r')\n",
    "ax[0].set_title('binsize = 20')\n",
    "ax[0].set_xlabel('Age')\n",
    "ax[0].set_ylabel('Freq')\n",
    "ax[1].hist(df,bins=5,color='r')\n",
    "ax[1].set_title('binsize = 10')\n",
    "ax[1].set_xlabel('Age')\n",
    "ax[1].set_ylabel('Freq');\n",
    "\n",
    "# note that the dist is positively2 skewed"
   ]
  },
  {
   "cell_type": "code",
   "execution_count": 5,
   "metadata": {
    "collapsed": false
   },
   "outputs": [
    {
     "name": "stdout",
     "output_type": "stream",
     "text": [
      "\n",
      "the proportion of people age >60 is 0.1\n",
      "\n",
      "the percentage of people age < 20 is 38.0%\n",
      "\n"
     ]
    }
   ],
   "source": [
    "print '\\nthe proportion of people age >60 is {}\\n'.format((df[df>60].count()/df.count()).values[0])\n",
    "\n",
    "print 'the percentage of people age < 20 is {}%\\n'.format(((df[df<20].count()/df.count())*100).values[0])"
   ]
  },
  {
   "cell_type": "markdown",
   "metadata": {
    "collapsed": true
   },
   "source": [
    "## 3 - Central Tendency"
   ]
  },
  {
   "cell_type": "markdown",
   "metadata": {},
   "source": [
    "#### Mean, Median, Mode"
   ]
  },
  {
   "cell_type": "code",
   "execution_count": 6,
   "metadata": {
    "collapsed": false
   },
   "outputs": [
    {
     "name": "stdout",
     "output_type": "stream",
     "text": [
      "0    28.32\n",
      "dtype: float64\n",
      "0    22.0\n",
      "dtype: float64\n",
      "    0\n",
      "0  18\n"
     ]
    }
   ],
   "source": [
    "# Measures of tendency\n",
    "print df.mean()\n",
    "print df.median()\n",
    "print df.mode()\n",
    "# note that mode<median<mean for positively skewed data\n"
   ]
  },
  {
   "cell_type": "code",
   "execution_count": 7,
   "metadata": {
    "collapsed": false
   },
   "outputs": [
    {
     "name": "stdout",
     "output_type": "stream",
     "text": [
      "mean = [ 584.74074074] media = [ 479.] mode = []\n"
     ]
    }
   ],
   "source": [
    "df = pd.read_csv('data/How many Facebook friends do Udacians have_ - Lesson 3 - Sheet1.csv')\n",
    "\n",
    "print 'mean = {} media = {} mode = {}'.format(df.mean().values, df.median().values, df.mode().values)"
   ]
  },
  {
   "cell_type": "markdown",
   "metadata": {},
   "source": [
    "###### Data : Sample Memory Scores"
   ]
  },
  {
   "cell_type": "code",
   "execution_count": 8,
   "metadata": {
    "collapsed": false,
    "scrolled": true
   },
   "outputs": [
    {
     "name": "stdout",
     "output_type": "stream",
     "text": [
      "Index([u'Recognition Score', u'Temporal Memory Score'], dtype='object')\n",
      "mean = [ 93.11555556  78.02666667] media = [ 92.  80.] mode = [[100  86]]\n"
     ]
    },
    {
     "data": {
      "text/html": [
       "<div>\n",
       "<table border=\"1\" class=\"dataframe\">\n",
       "  <thead>\n",
       "    <tr style=\"text-align: right;\">\n",
       "      <th></th>\n",
       "      <th>Recognition Score</th>\n",
       "      <th>Temporal Memory Score</th>\n",
       "    </tr>\n",
       "  </thead>\n",
       "  <tbody>\n",
       "    <tr>\n",
       "      <th>count</th>\n",
       "      <td>225.000000</td>\n",
       "      <td>225.000000</td>\n",
       "    </tr>\n",
       "    <tr>\n",
       "      <th>mean</th>\n",
       "      <td>93.115556</td>\n",
       "      <td>78.026667</td>\n",
       "    </tr>\n",
       "    <tr>\n",
       "      <th>std</th>\n",
       "      <td>22.619030</td>\n",
       "      <td>12.808312</td>\n",
       "    </tr>\n",
       "    <tr>\n",
       "      <th>min</th>\n",
       "      <td>10.000000</td>\n",
       "      <td>10.000000</td>\n",
       "    </tr>\n",
       "    <tr>\n",
       "      <th>25%</th>\n",
       "      <td>87.000000</td>\n",
       "      <td>70.000000</td>\n",
       "    </tr>\n",
       "    <tr>\n",
       "      <th>50%</th>\n",
       "      <td>92.000000</td>\n",
       "      <td>80.000000</td>\n",
       "    </tr>\n",
       "    <tr>\n",
       "      <th>75%</th>\n",
       "      <td>100.000000</td>\n",
       "      <td>86.000000</td>\n",
       "    </tr>\n",
       "    <tr>\n",
       "      <th>max</th>\n",
       "      <td>200.000000</td>\n",
       "      <td>100.000000</td>\n",
       "    </tr>\n",
       "  </tbody>\n",
       "</table>\n",
       "</div>"
      ],
      "text/plain": [
       "       Recognition Score  Temporal Memory Score\n",
       "count         225.000000             225.000000\n",
       "mean           93.115556              78.026667\n",
       "std            22.619030              12.808312\n",
       "min            10.000000              10.000000\n",
       "25%            87.000000              70.000000\n",
       "50%            92.000000              80.000000\n",
       "75%           100.000000              86.000000\n",
       "max           200.000000             100.000000"
      ]
     },
     "execution_count": 8,
     "metadata": {},
     "output_type": "execute_result"
    }
   ],
   "source": [
    "df = pd.read_csv('data/Sample Memory Scores - PS3, PS4 - Sheet1.csv',usecols=([0,1]))\n",
    "print df.columns\n",
    "\n",
    "print 'mean = {} media = {} mode = {}'.format(df.mean().values, df.median().values, df.mode().values)\n",
    "df.describe()"
   ]
  },
  {
   "cell_type": "code",
   "execution_count": 9,
   "metadata": {
    "collapsed": false
   },
   "outputs": [
    {
     "data": {
      "image/png": "[encoded data removed]",
      "text/plain": [
       "<matplotlib.figure.Figure at 0x7fb7b100c610>"
      ]
     },
     "metadata": {},
     "output_type": "display_data"
    }
   ],
   "source": [
    "# distribution\n",
    "fig,ax = plt.subplots(1,2,figsize=(14,4))\n",
    "ax[0].hist(df['Recognition Score'],bins=20)\n",
    "ax[0].set_title('Recognition Score')\n",
    "ax[1].hist(df['Temporal Memory Score'],bins=20)\n",
    "ax[1].set_title('Temporal Memory Score');\n"
   ]
  },
  {
   "cell_type": "markdown",
   "metadata": {},
   "source": [
    "#### Plotting with Seaborn"
   ]
  },
  {
   "cell_type": "code",
   "execution_count": 10,
   "metadata": {
    "collapsed": false
   },
   "outputs": [
    {
     "data": {
      "image/png": "[encoded data removed]",
      "text/plain": [
       "<matplotlib.figure.Figure at 0x7fb7ae118350>"
      ]
     },
     "metadata": {},
     "output_type": "display_data"
    }
   ],
   "source": [
    "import seaborn as sns\n",
    "# sns.set(color_codes=True)\n",
    "\n",
    "fig,(ax1,ax2) = plt.subplots(1,2,figsize=(14,4))\n",
    "sns.distplot(df['Temporal Memory Score'],ax=ax2 , bins=20);\n",
    "sns.distplot(df['Recognition Score'],ax=ax1 , bins=20);"
   ]
  },
  {
   "cell_type": "markdown",
   "metadata": {},
   "source": [
    "## 4 - Variability"
   ]
  },
  {
   "cell_type": "markdown",
   "metadata": {},
   "source": [
    "#### Inter Quantile Range (IQR)"
   ]
  },
  {
   "cell_type": "code",
   "execution_count": 11,
   "metadata": {
    "collapsed": false
   },
   "outputs": [
    {
     "name": "stdout",
     "output_type": "stream",
     "text": [
      " -- Q1 -- Q2 -- Q3 --\n"
     ]
    },
    {
     "data": {
      "text/plain": [
       "Recognition Score        13.0\n",
       "Temporal Memory Score    16.0\n",
       "dtype: float64"
      ]
     },
     "execution_count": 11,
     "metadata": {},
     "output_type": "execute_result"
    }
   ],
   "source": [
    "Q1 = df.quantile(.25)\n",
    "Q2 = df.quantile(.5)\n",
    "Q3 = df.quantile(.75)\n",
    "\n",
    "IQR = Q3 - Q1\n",
    "\n",
    "print  ' -- Q1 -- Q2 -- Q3 --'\n",
    "IQR"
   ]
  },
  {
   "cell_type": "markdown",
   "metadata": {},
   "source": [
    "#### Outlier & Boxplots"
   ]
  },
  {
   "cell_type": "code",
   "execution_count": 12,
   "metadata": {
    "collapsed": false
   },
   "outputs": [
    {
     "name": "stdout",
     "output_type": "stream",
     "text": [
      "Min val inside\n",
      "\n",
      "Recognition Score        67.5\n",
      "Temporal Memory Score    46.0\n",
      "dtype: float64\n",
      "\n",
      "Max val inside\n",
      "\n",
      "Recognition Score        119.5\n",
      "Temporal Memory Score    110.0\n",
      "dtype: float64\n"
     ]
    },
    {
     "data": {
      "image/png": "[encoded data removed]",
      "text/plain": [
       "<matplotlib.figure.Figure at 0x7fb7a5da8310>"
      ]
     },
     "metadata": {},
     "output_type": "display_data"
    }
   ],
   "source": [
    "# Outlier = < Q1 - 1.5 * IQR or\n",
    "#         = > Q3 + 1.5 * IQR\n",
    "# whis = 1.5\n",
    "print 'Min val inside\\n'\n",
    "print Q1-1.5*IQR\n",
    "print '\\nMax val inside\\n'\n",
    "print Q3+ 1.5*IQR\n",
    "fig,ax = plt.subplots(figsize=(14,4))\n",
    "ax.boxplot(df.values,0,'gd',0,labels=['RS','TMS'],whis=1.5);"
   ]
  },
  {
   "cell_type": "markdown",
   "metadata": {},
   "source": [
    "###### Data : Social Networkers Salary n=100"
   ]
  },
  {
   "cell_type": "code",
   "execution_count": 13,
   "metadata": {
    "collapsed": false
   },
   "outputs": [
    {
     "name": "stdout",
     "output_type": "stream",
     "text": [
      "Index([u'salary'], dtype='object')\n"
     ]
    },
    {
     "data": {
      "text/html": [
       "<div>\n",
       "<table border=\"1\" class=\"dataframe\">\n",
       "  <thead>\n",
       "    <tr style=\"text-align: right;\">\n",
       "      <th></th>\n",
       "      <th>salary</th>\n",
       "    </tr>\n",
       "  </thead>\n",
       "  <tbody>\n",
       "    <tr>\n",
       "      <th>count</th>\n",
       "      <td>100.000000</td>\n",
       "    </tr>\n",
       "    <tr>\n",
       "      <th>mean</th>\n",
       "      <td>50586.363300</td>\n",
       "    </tr>\n",
       "    <tr>\n",
       "      <th>std</th>\n",
       "      <td>10710.640427</td>\n",
       "    </tr>\n",
       "    <tr>\n",
       "      <th>min</th>\n",
       "      <td>24497.780000</td>\n",
       "    </tr>\n",
       "    <tr>\n",
       "      <th>25%</th>\n",
       "      <td>43188.750000</td>\n",
       "    </tr>\n",
       "    <tr>\n",
       "      <th>50%</th>\n",
       "      <td>52242.070000</td>\n",
       "    </tr>\n",
       "    <tr>\n",
       "      <th>75%</th>\n",
       "      <td>57978.635000</td>\n",
       "    </tr>\n",
       "    <tr>\n",
       "      <th>max</th>\n",
       "      <td>83017.280000</td>\n",
       "    </tr>\n",
       "  </tbody>\n",
       "</table>\n",
       "</div>"
      ],
      "text/plain": [
       "             salary\n",
       "count    100.000000\n",
       "mean   50586.363300\n",
       "std    10710.640427\n",
       "min    24497.780000\n",
       "25%    43188.750000\n",
       "50%    52242.070000\n",
       "75%    57978.635000\n",
       "max    83017.280000"
      ]
     },
     "execution_count": 13,
     "metadata": {},
     "output_type": "execute_result"
    }
   ],
   "source": [
    "df = pd.read_csv('data/Sample Social Networkers Salary n=100 - Lesson 4 - Sheet1.csv',usecols=([0]))\n",
    "print df.columns\n",
    "df.describe()"
   ]
  },
  {
   "cell_type": "code",
   "execution_count": 14,
   "metadata": {
    "collapsed": false,
    "scrolled": false
   },
   "outputs": [
    {
     "data": {
      "image/png": "[encoded data removed]",
      "text/plain": [
       "<matplotlib.figure.Figure at 0x7fb7a5d2bc10>"
      ]
     },
     "metadata": {},
     "output_type": "display_data"
    }
   ],
   "source": [
    "sns.distplot(df, bins=10);"
   ]
  },
  {
   "cell_type": "markdown",
   "metadata": {},
   "source": [
    "####  Stavdart Deviation"
   ]
  },
  {
   "cell_type": "markdown",
   "metadata": {
    "collapsed": true
   },
   "source": [
    "<img src=\"ss/Screenshot from 2016-12-23 01-11-05.png\",width=\"400\" height=\"400\" />\n",
    "<img src=\"ss/Screenshot from 2016-12-23 01-22-11.png\",width=\"500\" height=\"500\" />"
   ]
  },
  {
   "cell_type": "markdown",
   "metadata": {},
   "source": [
    "###### Data : How many Facebook friends do Udacians have_"
   ]
  },
  {
   "cell_type": "code",
   "execution_count": 15,
   "metadata": {
    "collapsed": false
   },
   "outputs": [
    {
     "name": "stdout",
     "output_type": "stream",
     "text": [
      "pop variance = [ 184385.5994513]\n",
      "\n",
      "pop std dev = [ 429.40144323]\n",
      "\n",
      "sample std dev = [ 437.58125334]\n",
      "\n"
     ]
    }
   ],
   "source": [
    "df = pd.read_csv('data/How many Facebook friends do Udacians have_ - Lesson 3 - Sheet1.csv',usecols=([1]))\n",
    "print 'pop variance = {}\\n'.format(df.var(ddof=0).values )\n",
    "print 'pop std dev = {}\\n'.format(df.std(ddof=0).values) \n",
    "print 'sample std dev = {}\\n'.format(df.std(ddof=1).values)"
   ]
  },
  {
   "cell_type": "markdown",
   "metadata": {},
   "source": [
    "## 5 - Standardizing"
   ]
  },
  {
   "cell_type": "markdown",
   "metadata": {},
   "source": [
    "<img src=\"ss\\Screenshot from 2016-12-23 16-03-03.png\",width=\"500\" height=\"500\" />\n",
    "<img src=\"ss\\zscore.png\",width=\"200\" height=\"200\" />"
   ]
  },
  {
   "cell_type": "markdown",
   "metadata": {},
   "source": [
    "#### Mini scipy tutorial\n",
    "\n",
    "https://docs.scipy.org/doc/scipy/reference/generated/scipy.stats.norm.html#scipy.stats.norm\n",
    "\n",
    "\n",
    "    import scipy.stats\n",
    "    \n",
    "    scipy.stats.norm(0, 1)\n",
    "    # <scipy.stats.distributions.rv_frozen object at 0x928352c>\n",
    "    scipy.stats.norm(0, 1).pdf(0)\n",
    "    # 0.3989422804014327\n",
    "    scipy.stats.norm(0, 1).cdf(0)\n",
    "    # 0.5"
   ]
  },
  {
   "cell_type": "markdown",
   "metadata": {},
   "source": [
    "#### Plot the standart normal distribution with scipy.stats"
   ]
  },
  {
   "cell_type": "code",
   "execution_count": 16,
   "metadata": {
    "collapsed": false,
    "scrolled": true
   },
   "outputs": [
    {
     "name": "stdout",
     "output_type": "stream",
     "text": [
      "\n",
      "mean=0.0, var=1.0, skewness=0.0, kurtosis0.0\n"
     ]
    },
    {
     "data": {
      "text/plain": [
       "True"
      ]
     },
     "execution_count": 16,
     "metadata": {},
     "output_type": "execute_result"
    },
    {
     "data": {
      "image/png": "[encoded data removed]",
      "text/plain": [
       "<matplotlib.figure.Figure at 0x7fb7ae2f7990>"
      ]
     },
     "metadata": {},
     "output_type": "display_data"
    }
   ],
   "source": [
    "from scipy.stats import norm\n",
    "# norm.pdf(x) = exp(-x**2/2)/sqrt(2*pi)\n",
    "\n",
    "# Calculate a few first moments:\n",
    "mean, var, skew, kurt = norm.stats(moments='mvsk')\n",
    "print '\\nmean={}, var={}, skewness={}, kurtosis{}'.format(mean, var, skew, kurt)\n",
    "#Display the probability density function (pdf):\n",
    "fig, ax = plt.subplots(1, 1,figsize=(7,4))\n",
    "# ppf is inverse of cdf\n",
    "x = np.linspace(norm.ppf(0.01),norm.ppf(0.99), 100)\n",
    "ax.plot(x, norm.pdf(x),'r-', lw=2, alpha=0.6, label='norm pdf')\n",
    "ax.set_ylim([0,.5]);\n",
    "\n",
    "# Check accuracy of cdf and ppf:\n",
    "vals = norm.ppf([0.001, 0.5, 0.999])\n",
    "np.allclose([0.001, 0.5, 0.999], norm.cdf(vals))"
   ]
  },
  {
   "cell_type": "markdown",
   "metadata": {
    "collapsed": true
   },
   "source": [
    "## 5 - Normal Distribution "
   ]
  },
  {
   "cell_type": "markdown",
   "metadata": {},
   "source": [
    "###### Data : Karma Points Per Post"
   ]
  },
  {
   "cell_type": "code",
   "execution_count": 17,
   "metadata": {
    "collapsed": false
   },
   "outputs": [],
   "source": [
    "df = pd.read_csv('data/Karma points per post (Lesson 6) - Sheet1.csv',usecols=([0]), header=None)\n",
    "mu = round(df.mean())\n",
    "sigma = round(df.std(ddof=1),1) # sample standart dev\n",
    "z1 = norm.cdf(5,mu,sigma) # the proportion of less than 5 points per post on average\n",
    "z2 = 1 - norm.cdf(20,mu,sigma) # the proportion of more than 20 points per post on average\n",
    "# or \n",
    "z3 = norm.sf(20,mu,sigma) # survival func which gives 1-cdf\n",
    "z4 = norm.cdf(16,mu,sigma) - norm.cdf(10,mu,sigma)# between 10 and 16\n",
    "score = (norm.ppf(.95)*sigma)+mu # what score is needed to be in the top %5"
   ]
  },
  {
   "cell_type": "markdown",
   "metadata": {
    "collapsed": true
   },
   "source": [
    "## 6 - Sampling Distribtion"
   ]
  },
  {
   "cell_type": "markdown",
   "metadata": {
    "collapsed": true
   },
   "source": [
    "<img src=\"ss\\CLT.png\",width=\"600\" height=\"600\" />\n",
    "<img src=\"ss\\samplesizeandstandarterror.png\",width=\"600\" height=\"600\" />\n",
    "\n",
    "http://onlinestatbook.com/stat_sim/sampling_dist/index.html"
   ]
  },
  {
   "cell_type": "markdown",
   "metadata": {},
   "source": [
    "###### Data : Klout Scores"
   ]
  },
  {
   "cell_type": "code",
   "execution_count": 18,
   "metadata": {
    "collapsed": false
   },
   "outputs": [
    {
     "data": {
      "text/html": [
       "<div>\n",
       "<table border=\"1\" class=\"dataframe\">\n",
       "  <thead>\n",
       "    <tr style=\"text-align: right;\">\n",
       "      <th></th>\n",
       "      <th>0</th>\n",
       "    </tr>\n",
       "  </thead>\n",
       "  <tbody>\n",
       "    <tr>\n",
       "      <th>count</th>\n",
       "      <td>1048.000000</td>\n",
       "    </tr>\n",
       "    <tr>\n",
       "      <th>mean</th>\n",
       "      <td>37.719055</td>\n",
       "    </tr>\n",
       "    <tr>\n",
       "      <th>std</th>\n",
       "      <td>16.044315</td>\n",
       "    </tr>\n",
       "    <tr>\n",
       "      <th>min</th>\n",
       "      <td>10.000000</td>\n",
       "    </tr>\n",
       "    <tr>\n",
       "      <th>25%</th>\n",
       "      <td>23.174620</td>\n",
       "    </tr>\n",
       "    <tr>\n",
       "      <th>50%</th>\n",
       "      <td>41.094683</td>\n",
       "    </tr>\n",
       "    <tr>\n",
       "      <th>75%</th>\n",
       "      <td>50.284432</td>\n",
       "    </tr>\n",
       "    <tr>\n",
       "      <th>max</th>\n",
       "      <td>87.247529</td>\n",
       "    </tr>\n",
       "  </tbody>\n",
       "</table>\n",
       "</div>"
      ],
      "text/plain": [
       "                 0\n",
       "count  1048.000000\n",
       "mean     37.719055\n",
       "std      16.044315\n",
       "min      10.000000\n",
       "25%      23.174620\n",
       "50%      41.094683\n",
       "75%      50.284432\n",
       "max      87.247529"
      ]
     },
     "execution_count": 18,
     "metadata": {},
     "output_type": "execute_result"
    },
    {
     "data": {
      "image/png": "[encoded data removed]",
      "text/plain": [
       "<matplotlib.figure.Figure at 0x7fb7ae1105d0>"
      ]
     },
     "metadata": {},
     "output_type": "display_data"
    }
   ],
   "source": [
    "df = pd.read_csv('data/Klout scores (Lesson 7) - Sheet1.csv',usecols=([0]), header=None)\n",
    "# a quick look to the data\n",
    "plt.hist(df,bins=20);\n",
    "df.describe()"
   ]
  },
  {
   "cell_type": "markdown",
   "metadata": {},
   "source": [
    "####  CLT Experiment"
   ]
  },
  {
   "cell_type": "code",
   "execution_count": 19,
   "metadata": {
    "collapsed": false
   },
   "outputs": [
    {
     "name": "stdout",
     "output_type": "stream",
     "text": [
      "The standart error of the mean derived from CLT is 2.7107\n",
      "True SE of the mean is 2.7369\n",
      "\n",
      "The population mean is 37.7191\n",
      "The expected value of the means is 37.7045\n"
     ]
    },
    {
     "data": {
      "image/png": "[encoded data removed]",
      "text/plain": [
       "<matplotlib.figure.Figure at 0x7fb7ae107450>"
      ]
     },
     "metadata": {},
     "output_type": "display_data"
    }
   ],
   "source": [
    "# take a samples of size 35 (n=35)\n",
    "n = 35\n",
    "\n",
    "def sampler(n):\n",
    "    sample_means = []\n",
    "    for i in range(1000):\n",
    "        sample = df.loc[np.random.permutation(len(df))[:n]]\n",
    "        sample_means.append(np.asscalar(sample.mean().values))\n",
    "    return sample_means\n",
    "\n",
    "print 'The standart error of the mean derived from CLT is {}'.format(round((df.std(ddof=0)/np.sqrt(n)).values[0],4)) \n",
    "print 'True SE of the mean is {}\\n'.format(round(np.asarray( sampler(n)).std(),4))\n",
    "print 'The population mean is {}'.format(round(df.mean(),4))\n",
    "print 'The expected value of the means is {}'.format(round(np.asarray( sampler(n)).mean(),4))\n",
    "\n",
    "fig,ax = plt.subplots(figsize=(14,4))\n",
    "ax.hist(df,color='r',bins=20);\n",
    "ax.hist(sampler(n),color='b',bins=20,alpha=.5);\n",
    "ax.axvline(np.asarray(sampler(n)).mean(), color='y', linestyle='dashed',linewidth=2,alpha=.8)\n",
    "ax.axvline(40, color='g', linestyle='dashed',linewidth=2,alpha=.8);"
   ]
  },
  {
   "cell_type": "code",
   "execution_count": 20,
   "metadata": {
    "collapsed": false
   },
   "outputs": [
    {
     "name": "stdout",
     "output_type": "stream",
     "text": [
      "the z-score is 0.84\n",
      "0.200081988632\n",
      "the likelohood of randomly selecting from the KLOUT population\n",
      "a sample of size 35 and whose mean is at least 40 is 20.01%\n"
     ]
    }
   ],
   "source": [
    "# using a Bieber Twitter affects the Klout score?\n",
    "xbar_bieber = 40\n",
    "mu = round(df.mean(),2)\n",
    "SE = round(df.std(ddof=1)/np.sqrt(n),2)\n",
    "\n",
    "# calculate the probabilty of randomly drawing a sample of size 35 with mean of at least 40\n",
    "z = (xbar_bieber-mu)/SE\n",
    "print 'the z-score is {}'.format(round(z,2))\n",
    "print norm.sf(z)\n",
    "# or\n",
    "print 'the likelohood of randomly selecting from the KLOUT population'\n",
    "print 'a sample of size {} and whose mean is at least 40 is {}%'.format(n,round(norm.sf(xbar_bieber,mu,SE),4)*100)"
   ]
  },
  {
   "cell_type": "code",
   "execution_count": 21,
   "metadata": {
    "collapsed": false
   },
   "outputs": [
    {
     "name": "stdout",
     "output_type": "stream",
     "text": [
      "the likelohood of randomly selecting from the KLOUT population\n",
      "a sample of size 250 and whose mean is at least 40 is 1.199%\n"
     ]
    },
    {
     "data": {
      "image/png": "[encoded data removed]",
      "text/plain": [
       "<matplotlib.figure.Figure at 0x7fb7ae118450>"
      ]
     },
     "metadata": {},
     "output_type": "display_data"
    }
   ],
   "source": [
    "# What if the sample size n is 250 and they have mean KLOUT score 40\n",
    "# Now, what is the likelohood of randomly selecting from the KLOUT population\n",
    "# a sample of size 250 and whose mean is at least 40\n",
    "n=250\n",
    "SE = round(df.std(ddof=1)/np.sqrt(n),2)\n",
    "\n",
    "\n",
    "print 'the likelohood of randomly selecting from the KLOUT population'\n",
    "print 'a sample of size {} and whose mean is at least 40 is {}%'.format(n,round(norm.sf(xbar_bieber,mu,SE),5)*100)\n",
    "\n",
    "fig,ax = plt.subplots(figsize=(14,4))\n",
    "ax.hist(df,color='r',bins=20);\n",
    "ax.hist(sampler(n),color='b',bins=20,alpha=.5);\n",
    "ax.axvline(np.asarray(sampler(n)).mean(), color='y', linestyle='dashed',linewidth=2,alpha=.8)\n",
    "ax.axvline(40, color='g', linestyle='dashed',linewidth=2,alpha=.8);"
   ]
  }
 ],
 "metadata": {
  "kernelspec": {
   "display_name": "Python [Root]",
   "language": "python",
   "name": "Python [Root]"
  },
  "language_info": {
   "codemirror_mode": {
    "name": "ipython",
    "version": 2
   },
   "file_extension": ".py",
   "mimetype": "text/x-python",
   "name": "python",
   "nbconvert_exporter": "python",
   "pygments_lexer": "ipython2",
   "version": "2.7.12"
  }
 },
 "nbformat": 4,
 "nbformat_minor": 0
}
