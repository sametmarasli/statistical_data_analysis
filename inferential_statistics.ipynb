{
 "cells": [
  {
   "cell_type": "code",
   "execution_count": 1,
   "metadata": {
    "collapsed": true
   },
   "outputs": [],
   "source": [
    "import pandas as pd\n",
    "import numpy as np\n",
    "import matplotlib.pyplot as plt\n",
    "import seaborn as sns\n",
    "from scipy.stats import norm\n",
    "%matplotlib inline"
   ]
  },
  {
   "cell_type": "markdown",
   "metadata": {},
   "source": [
    "## Inferential Statistics"
   ]
  },
  {
   "cell_type": "markdown",
   "metadata": {},
   "source": [
    "## 8 - Estimation"
   ]
  },
  {
   "cell_type": "markdown",
   "metadata": {},
   "source": [
    "#### Confidence Intervals"
   ]
  },
  {
   "cell_type": "markdown",
   "metadata": {},
   "source": [
    "<img src=\"ss\\MOE.png\",width=\"500\" height=\"500\" />"
   ]
  },
  {
   "cell_type": "code",
   "execution_count": 2,
   "metadata": {
    "collapsed": true
   },
   "outputs": [],
   "source": [
    "def CI(xbar_I,z_score,SE):\n",
    "    '''\n",
    "    CI(xbar_I,z_score,SE)\n",
    "    Calculates the confidence interval\n",
    "    '''\n",
    "    return (xbar_I-z_score*SE , xbar_I+z_score*SE)"
   ]
  },
  {
   "cell_type": "markdown",
   "metadata": {},
   "source": [
    "##### Critical values of z for different CI"
   ]
  },
  {
   "cell_type": "code",
   "execution_count": 3,
   "metadata": {
    "collapsed": false
   },
   "outputs": [
    {
     "data": {
      "text/plain": [
       "(1.96, 2.33)"
      ]
     },
     "execution_count": 3,
     "metadata": {},
     "output_type": "execute_result"
    }
   ],
   "source": [
    "z_95 = round(norm.ppf(0.975),2)\n",
    "z_98 = round(norm.ppf(0.99),2)\n",
    "z_95, z_98"
   ]
  },
  {
   "cell_type": "markdown",
   "metadata": {},
   "source": [
    "###### Data : Klout Scores"
   ]
  },
  {
   "cell_type": "code",
   "execution_count": 20,
   "metadata": {
    "collapsed": false
   },
   "outputs": [
    {
     "name": "stdout",
     "output_type": "stream",
     "text": [
      "95% Confidence interval is (34.6884, 45.3116)\n",
      "If everyone uses Bieber twitter, the population mean could range between these values\n",
      "\n",
      "A sample with size 35 and mean 40 could have selected by random chance\n",
      "since 37.72 is between (34.6884, 45.3116)\n"
     ]
    }
   ],
   "source": [
    "df = pd.read_csv('data/Klout scores (Lesson 7) - Sheet1.csv',usecols=([0]), header=None)\n",
    "mu = round(df.mean(),2)\n",
    "\n",
    "n = 35\n",
    "xbar_bieber = 40 # point estimate\n",
    "SE_35 = round(df.std(ddof=1)/np.sqrt(n),2)\n",
    "\n",
    "print '95% Confidence interval is {}'.format(CI(xbar_bieber,z_95,SE_35))\n",
    "print 'If everyone uses Bieber twitter, the population mean could range between these values\\n'\n",
    "print 'A sample with size {} and mean 40 could have selected by random chance'.format(n)\n",
    "print 'since {} is between {}'.format(mu,CI(xbar_bieber,z_95,SE_35))"
   ]
  },
  {
   "cell_type": "markdown",
   "metadata": {},
   "source": [
    "<img src=\"ss\\CI.png\",width=\"500\" height=\"500\" />"
   ]
  },
  {
   "cell_type": "code",
   "execution_count": 19,
   "metadata": {
    "collapsed": false
   },
   "outputs": [
    {
     "name": "stdout",
     "output_type": "stream",
     "text": [
      "95% Confidence interval is (39.9804, 40.0196)\n",
      "If everyone uses Bieber twitter, the population mean could range between these values\n",
      "\n",
      "A sample with size 250 and mean 40 could NOT have selected by random chance\n",
      "since 0.077 is NOT between (39.9804, 40.0196)\n",
      "\n",
      "This is evidence for treatment effect\n"
     ]
    }
   ],
   "source": [
    "n = 250\n",
    "xbar_bieber = 40\n",
    "SE_250 = round(df.std(ddof=1)/np.sqrt(n),2)\n",
    "\n",
    "print '95% Confidence interval is {}'.format(CI(xbar_bieber,z_95,SE_250))\n",
    "print 'If everyone uses Bieber twitter, the population mean could range between these values\\n'\n",
    "print 'A sample with size {} and mean 40 could NOT have selected by random chance'.format(n)\n",
    "print 'since {} is NOT between {}\\n'.format(mu,CI(xbar_bieber,z_95,SE_250))\n",
    "print 'This is evidence for treatment effect'"
   ]
  },
  {
   "cell_type": "markdown",
   "metadata": {},
   "source": [
    "##### Comment on Sample Size and CI"
   ]
  },
  {
   "cell_type": "markdown",
   "metadata": {},
   "source": [
    "So with a bigger sample size we have a smaller interval for which we re pretty sure the true population mean lies.\n",
    "The greater our sample size, the smaller our confidence interval for the true population perameter after the intervention. And the better we are able to estimate our population parameters."
   ]
  },
  {
   "cell_type": "code",
   "execution_count": 18,
   "metadata": {
    "collapsed": false
   },
   "outputs": [
    {
     "name": "stdout",
     "output_type": "stream",
     "text": [
      "98% Confidence interval is (37.6467, 42.3533)\n",
      "If everyone uses Bieber twitter, the population mean could range between these values\n",
      "\n",
      "A sample with size 20 and mean 40 could have selected by random chance\n",
      "since 0.077 is between (37.6467, 42.3533)\n",
      "\n",
      "We have a slightly bigger interval but we are also more sure\n",
      "that the true population mean will be in this interval\n"
     ]
    }
   ],
   "source": [
    "print '98% Confidence interval is {}'.format(CI(xbar_bieber,z_98,SE_250))\n",
    "print 'If everyone uses Bieber twitter, the population mean could range between these values\\n'\n",
    "print 'A sample with size {} and mean 40 could have selected by random chance'.format(n)\n",
    "print 'since {} is between {}\\n'.format(mu,CI(xbar_bieber,z_98,SE_250))\n",
    "print 'We have a slightly bigger interval but we are also more sure' \n",
    "print 'that the true population mean will be in this interval'"
   ]
  },
  {
   "cell_type": "markdown",
   "metadata": {},
   "source": [
    "###### Data : Engagement Ratio"
   ]
  },
  {
   "cell_type": "code",
   "execution_count": 7,
   "metadata": {
    "collapsed": false
   },
   "outputs": [
    {
     "name": "stdout",
     "output_type": "stream",
     "text": [
      "\n",
      "Engagement Ratio = Number of Minutes Wathced / Total Minutes Available\n",
      "\n"
     ]
    },
    {
     "data": {
      "text/plain": [
       "<matplotlib.text.Text at 0x7fc32ea1bad0>"
      ]
     },
     "execution_count": 7,
     "metadata": {},
     "output_type": "execute_result"
    },
    {
     "data": {
      "image/png": "[encoded data removed]",
      "text/plain": [
       "<matplotlib.figure.Figure at 0x7fc34977ded0>"
      ]
     },
     "metadata": {},
     "output_type": "display_data"
    }
   ],
   "source": [
    "df = pd.read_csv('data/Engagement ratio - Lesson 8 - Sheet1.csv',usecols=([0]), header=None)\n",
    "\n",
    "print '\\nEngagement Ratio = Number of Minutes Wathced / Total Minutes Available\\n'\n",
    "plt.figure(figsize=(7,4))\n",
    "plt.hist(df,bins=20)\n",
    "plt.ylim([0,5000])\n",
    "plt.xlabel('Ratio');\n",
    "plt.ylabel('Frequency')"
   ]
  },
  {
   "cell_type": "code",
   "execution_count": 8,
   "metadata": {
    "collapsed": false
   },
   "outputs": [
    {
     "name": "stdout",
     "output_type": "stream",
     "text": [
      "Population mean = 0.077 and standart deviation = 0.107\n"
     ]
    }
   ],
   "source": [
    "mu =  round(df.mean(),3)\n",
    "sd = round(df.std(),3)\n",
    "print 'Population mean = {} and standart deviation = {}'.format(mu,sd)"
   ]
  },
  {
   "cell_type": "markdown",
   "metadata": {},
   "source": [
    "Case#1 : 20 students have access to a lesson contains a song about hypothesis testing "
   ]
  },
  {
   "cell_type": "code",
   "execution_count": 12,
   "metadata": {
    "collapsed": false
   },
   "outputs": [],
   "source": [
    "n=20\n",
    "# Point estimate for the population is equal to xbar_song\n",
    "xbar_song = 0.13 "
   ]
  },
  {
   "cell_type": "markdown",
   "metadata": {},
   "source": [
    "<img src=\"ss\\EngagementR.png\",width=\"500\" height=\"500\" />"
   ]
  },
  {
   "cell_type": "code",
   "execution_count": 17,
   "metadata": {
    "collapsed": false
   },
   "outputs": [
    {
     "name": "stdout",
     "output_type": "stream",
     "text": [
      "95% Confidence interval is (0.08296, 0.17704)\n",
      "If the prof adds the lesson with song, the population mean could range between these values\n",
      "\n",
      "A sample with size 20 and mean 0.13 could NOT have selected by random chance\n",
      "since 0.077 is NOT between (0.08296, 0.17704)\n",
      "\n",
      "This is evidence for treatment effect\n"
     ]
    }
   ],
   "source": [
    "# Interval estimate\n",
    "SE = round(sd/np.sqrt(20),3)\n",
    "print '95% Confidence interval is {}'.format(CI(xbar_song,z_95,SE))\n",
    "print 'If the prof adds the lesson with song, the population mean could range between these values\\n'\n",
    "print 'A sample with size {} and mean {} could NOT have selected by random chance'.format(n,xbar_song)\n",
    "print 'since {} is NOT between {}\\n'.format(mu,CI(xbar_song,z_95,SE))\n",
    "print 'This is evidence for treatment effect'"
   ]
  },
  {
   "cell_type": "markdown",
   "metadata": {},
   "source": [
    "Case#2\n",
    "<img src=\"ss\\CASE2.png\",width=\"600\" height=\"600\" />\n",
    "\n",
    "There is evidence to suggest that the song seems to have had an effect on engagement, but not on learning."
   ]
  },
  {
   "cell_type": "code",
   "execution_count": null,
   "metadata": {
    "collapsed": true
   },
   "outputs": [],
   "source": []
  }
 ],
 "metadata": {
  "kernelspec": {
   "display_name": "Python [Root]",
   "language": "python",
   "name": "Python [Root]"
  },
  "language_info": {
   "codemirror_mode": {
    "name": "ipython",
    "version": 2
   },
   "file_extension": ".py",
   "mimetype": "text/x-python",
   "name": "python",
   "nbconvert_exporter": "python",
   "pygments_lexer": "ipython2",
   "version": "2.7.12"
  }
 },
 "nbformat": 4,
 "nbformat_minor": 0
}
