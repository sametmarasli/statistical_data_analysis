{
 "cells": [
  {
   "cell_type": "code",
   "execution_count": null,
   "metadata": {
    "collapsed": true
   },
   "outputs": [],
   "source": [
    "import pandas as pd\n",
    "import numpy as np\n",
    "import matplotlib.pyplot as plt\n",
    "%matplotlib inline"
   ]
  },
  {
   "cell_type": "markdown",
   "metadata": {},
   "source": [
    "## Descriptive Statistics"
   ]
  },
  {
   "cell_type": "markdown",
   "metadata": {},
   "source": [
    "## 1 - Intro to Research Methods"
   ]
  },
  {
   "cell_type": "markdown",
   "metadata": {},
   "source": [
    "###### Data : Relationship between hand lenght and height"
   ]
  },
  {
   "cell_type": "code",
   "execution_count": null,
   "metadata": {
    "collapsed": false
   },
   "outputs": [],
   "source": [
    "df = pd.read_csv('data/Height and hand length of Udacians - Lesson 1 - Sheet1.csv')\n",
    "print df.columns\n",
    "df.head()"
   ]
  },
  {
   "cell_type": "code",
   "execution_count": null,
   "metadata": {
    "collapsed": false
   },
   "outputs": [],
   "source": [
    "fig,ax = plt.subplots(figsize=(7,4))\n",
    "ax.scatter(df['Hand length (in)'],df['Height (in)'])\n",
    "ax.set_ylabel('Height (in)')\n",
    "ax.set_xlabel('Hand length (in)');"
   ]
  },
  {
   "cell_type": "markdown",
   "metadata": {},
   "source": [
    "## 2 - Visualising Data"
   ]
  },
  {
   "cell_type": "markdown",
   "metadata": {},
   "source": [
    "#### Histogram & Different Bin Sizes"
   ]
  },
  {
   "cell_type": "markdown",
   "metadata": {},
   "source": [
    "###### Data: Udacity Student Ages Data"
   ]
  },
  {
   "cell_type": "code",
   "execution_count": null,
   "metadata": {
    "collapsed": false
   },
   "outputs": [],
   "source": [
    "df = pd.read_csv('data/Udacity Student Ages Data - Sheet1.csv', header=None)\n",
    "df = pd.DataFrame(df.values.ravel())\n",
    "\n",
    "fig,ax = plt.subplots(1,2,figsize=(14,4))\n",
    "ax[0].hist(df,bins=20,color='r')\n",
    "ax[0].set_title('binsize = 20')\n",
    "ax[0].set_xlabel('Age')\n",
    "ax[0].set_ylabel('Freq')\n",
    "ax[1].hist(df,bins=5,color='r')\n",
    "ax[1].set_title('binsize = 10')\n",
    "ax[1].set_xlabel('Age')\n",
    "ax[1].set_ylabel('Freq');\n",
    "\n",
    "# note that the dist is positively2 skewed"
   ]
  },
  {
   "cell_type": "code",
   "execution_count": null,
   "metadata": {
    "collapsed": false
   },
   "outputs": [],
   "source": [
    "print '\\nthe proportion of people age >60 is {}\\n'.format((df[df>60].count()/df.count()).values[0])\n",
    "\n",
    "print 'the percentage of people age < 20 is {}%\\n'.format(((df[df<20].count()/df.count())*100).values[0])"
   ]
  },
  {
   "cell_type": "markdown",
   "metadata": {
    "collapsed": true
   },
   "source": [
    "## 3 - Central Tendency"
   ]
  },
  {
   "cell_type": "markdown",
   "metadata": {},
   "source": [
    "#### Mean, Median, Mode"
   ]
  },
  {
   "cell_type": "code",
   "execution_count": null,
   "metadata": {
    "collapsed": false
   },
   "outputs": [],
   "source": [
    "# Measures of tendency\n",
    "print df.mean()\n",
    "print df.median()\n",
    "print df.mode()\n",
    "# note that mode<median<mean for positively skewed data\n"
   ]
  },
  {
   "cell_type": "code",
   "execution_count": null,
   "metadata": {
    "collapsed": false
   },
   "outputs": [],
   "source": [
    "df = pd.read_csv('data/How many Facebook friends do Udacians have_ - Lesson 3 - Sheet1.csv')\n",
    "\n",
    "print 'mean = {} media = {} mode = {}'.format(df.mean().values, df.median().values, df.mode().values)"
   ]
  },
  {
   "cell_type": "markdown",
   "metadata": {},
   "source": [
    "###### Data : Sample Memory Scores"
   ]
  },
  {
   "cell_type": "code",
   "execution_count": null,
   "metadata": {
    "collapsed": false,
    "scrolled": true
   },
   "outputs": [],
   "source": [
    "df = pd.read_csv('data/Sample Memory Scores - PS3, PS4 - Sheet1.csv',usecols=([0,1]))\n",
    "print df.columns\n",
    "\n",
    "print 'mean = {} media = {} mode = {}'.format(df.mean().values, df.median().values, df.mode().values)\n",
    "df.describe()"
   ]
  },
  {
   "cell_type": "code",
   "execution_count": null,
   "metadata": {
    "collapsed": false
   },
   "outputs": [],
   "source": [
    "# distribution\n",
    "fig,ax = plt.subplots(1,2,figsize=(14,4))\n",
    "ax[0].hist(df['Recognition Score'],bins=20)\n",
    "ax[0].set_title('Recognition Score')\n",
    "ax[1].hist(df['Temporal Memory Score'],bins=20)\n",
    "ax[1].set_title('Temporal Memory Score');\n"
   ]
  },
  {
   "cell_type": "markdown",
   "metadata": {},
   "source": [
    "#### Plotting with Seaborn"
   ]
  },
  {
   "cell_type": "code",
   "execution_count": null,
   "metadata": {
    "collapsed": false
   },
   "outputs": [],
   "source": [
    "import seaborn as sns\n",
    "# sns.set(color_codes=True)\n",
    "\n",
    "fig,(ax1,ax2) = plt.subplots(1,2,figsize=(14,4))\n",
    "sns.distplot(df['Temporal Memory Score'],ax=ax2 , bins=20);\n",
    "sns.distplot(df['Recognition Score'],ax=ax1 , bins=20);"
   ]
  },
  {
   "cell_type": "markdown",
   "metadata": {},
   "source": [
    "## 4 - Variability"
   ]
  },
  {
   "cell_type": "markdown",
   "metadata": {},
   "source": [
    "#### Inter Quantile Range (IQR)"
   ]
  },
  {
   "cell_type": "code",
   "execution_count": null,
   "metadata": {
    "collapsed": false
   },
   "outputs": [],
   "source": [
    "Q1 = df.quantile(.25)\n",
    "Q2 = df.quantile(.5)\n",
    "Q3 = df.quantile(.75)\n",
    "\n",
    "IQR = Q3 - Q1\n",
    "\n",
    "print  ' -- Q1 -- Q2 -- Q3 --'\n",
    "IQR"
   ]
  },
  {
   "cell_type": "markdown",
   "metadata": {},
   "source": [
    "#### Outlier & Boxplots"
   ]
  },
  {
   "cell_type": "code",
   "execution_count": null,
   "metadata": {
    "collapsed": false
   },
   "outputs": [],
   "source": [
    "# Outlier = < Q1 - 1.5 * IQR or\n",
    "#         = > Q3 + 1.5 * IQR\n",
    "# whis = 1.5\n",
    "print 'Min val inside\\n'\n",
    "print Q1-1.5*IQR\n",
    "print '\\nMax val inside\\n'\n",
    "print Q3+ 1.5*IQR\n",
    "fig,ax = plt.subplots(figsize=(14,4))\n",
    "ax.boxplot(df.values,0,'gd',0,labels=['RS','TMS'],whis=1.5);"
   ]
  },
  {
   "cell_type": "markdown",
   "metadata": {},
   "source": [
    "###### Data : Social Networkers Salary n=100"
   ]
  },
  {
   "cell_type": "code",
   "execution_count": null,
   "metadata": {
    "collapsed": false
   },
   "outputs": [],
   "source": [
    "df = pd.read_csv('data/Sample Social Networkers Salary n=100 - Lesson 4 - Sheet1.csv',usecols=([0]))\n",
    "print df.columns\n",
    "df.describe()"
   ]
  },
  {
   "cell_type": "code",
   "execution_count": null,
   "metadata": {
    "collapsed": false,
    "scrolled": false
   },
   "outputs": [],
   "source": [
    "sns.distplot(df, bins=10);"
   ]
  },
  {
   "cell_type": "markdown",
   "metadata": {},
   "source": [
    "####  Stavdart Deviation"
   ]
  },
  {
   "cell_type": "markdown",
   "metadata": {
    "collapsed": true
   },
   "source": [
    "<img src=\"ss/Screenshot from 2016-12-23 01-11-05.png\",width=\"400\" height=\"400\" />\n",
    "<img src=\"ss/Screenshot from 2016-12-23 01-22-11.png\",width=\"500\" height=\"500\" />"
   ]
  },
  {
   "cell_type": "markdown",
   "metadata": {},
   "source": [
    "###### Data : How many Facebook friends do Udacians have_"
   ]
  },
  {
   "cell_type": "code",
   "execution_count": null,
   "metadata": {
    "collapsed": false
   },
   "outputs": [],
   "source": [
    "df = pd.read_csv('data/How many Facebook friends do Udacians have_ - Lesson 3 - Sheet1.csv',usecols=([1]))\n",
    "print 'pop variance = {}\\n'.format(df.var(ddof=0).values )\n",
    "print 'pop std dev = {}\\n'.format(df.std(ddof=0).values) \n",
    "print 'sample std dev = {}\\n'.format(df.std(ddof=1).values)"
   ]
  },
  {
   "cell_type": "markdown",
   "metadata": {},
   "source": [
    "## 5 - Standardizing"
   ]
  },
  {
   "cell_type": "markdown",
   "metadata": {},
   "source": [
    "<img src=\"ss\\Screenshot from 2016-12-23 16-03-03.png\",width=\"500\" height=\"500\" />\n",
    "<img src=\"ss\\zscore.png\",width=\"200\" height=\"200\" />"
   ]
  },
  {
   "cell_type": "markdown",
   "metadata": {},
   "source": [
    "#### Mini scipy tutorial\n",
    "\n",
    "https://docs.scipy.org/doc/scipy/reference/generated/scipy.stats.norm.html#scipy.stats.norm\n",
    "\n",
    "\n",
    "    import scipy.stats\n",
    "    \n",
    "    scipy.stats.norm(0, 1)\n",
    "    # <scipy.stats.distributions.rv_frozen object at 0x928352c>\n",
    "    scipy.stats.norm(0, 1).pdf(0)\n",
    "    # 0.3989422804014327\n",
    "    scipy.stats.norm(0, 1).cdf(0)\n",
    "    # 0.5"
   ]
  },
  {
   "cell_type": "markdown",
   "metadata": {},
   "source": [
    "#### Plot the standart normal distribution with scipy.stats"
   ]
  },
  {
   "cell_type": "code",
   "execution_count": null,
   "metadata": {
    "collapsed": false,
    "scrolled": true
   },
   "outputs": [],
   "source": [
    "from scipy.stats import norm\n",
    "# norm.pdf(x) = exp(-x**2/2)/sqrt(2*pi)\n",
    "\n",
    "# Calculate a few first moments:\n",
    "mean, var, skew, kurt = norm.stats(moments='mvsk')\n",
    "print '\\nmean={}, var={}, skewness={}, kurtosis{}'.format(mean, var, skew, kurt)\n",
    "#Display the probability density function (pdf):\n",
    "fig, ax = plt.subplots(1, 1,figsize=(7,4))\n",
    "# ppf is inverse of cdf\n",
    "x = np.linspace(norm.ppf(0.01),norm.ppf(0.99), 100)\n",
    "ax.plot(x, norm.pdf(x),'r-', lw=2, alpha=0.6, label='norm pdf')\n",
    "ax.set_ylim([0,.5]);\n",
    "\n",
    "# Check accuracy of cdf and ppf:\n",
    "vals = norm.ppf([0.001, 0.5, 0.999])\n",
    "np.allclose([0.001, 0.5, 0.999], norm.cdf(vals))"
   ]
  },
  {
   "cell_type": "markdown",
   "metadata": {
    "collapsed": true
   },
   "source": [
    "## 5 - Normal Distribution "
   ]
  },
  {
   "cell_type": "markdown",
   "metadata": {},
   "source": [
    "###### Data : Karma Points Per Post"
   ]
  },
  {
   "cell_type": "code",
   "execution_count": null,
   "metadata": {
    "collapsed": false
   },
   "outputs": [],
   "source": [
    "df = pd.read_csv('data/Karma points per post (Lesson 6) - Sheet1.csv',usecols=([0]), header=None)\n",
    "mu = round(df.mean())\n",
    "sigma = round(df.std(ddof=1),1) # sample standart dev\n",
    "z1 = norm.cdf(5,mu,sigma) # the proportion of less than 5 points per post on average\n",
    "z2 = 1 - norm.cdf(20,mu,sigma) # the proportion of more than 20 points per post on average\n",
    "# or \n",
    "z3 = norm.sf(20,mu,sigma) # survival func which gives 1-cdf\n",
    "z4 = norm.cdf(16,mu,sigma) - norm.cdf(10,mu,sigma)# between 10 and 16\n",
    "score = (norm.ppf(.95)*sigma)+mu # what score is needed to be in the top %5"
   ]
  },
  {
   "cell_type": "markdown",
   "metadata": {
    "collapsed": true
   },
   "source": [
    "## 6 - Sampling Distribtion"
   ]
  },
  {
   "cell_type": "markdown",
   "metadata": {
    "collapsed": true
   },
   "source": [
    "<img src=\"ss\\CLT.png\",width=\"600\" height=\"600\" />\n",
    "<img src=\"ss\\samplesizeandstandarterror.png\",width=\"600\" height=\"600\" />\n",
    "\n",
    "http://onlinestatbook.com/stat_sim/sampling_dist/index.html"
   ]
  },
  {
   "cell_type": "markdown",
   "metadata": {},
   "source": [
    "###### Data : Klout Scores"
   ]
  },
  {
   "cell_type": "code",
   "execution_count": null,
   "metadata": {
    "collapsed": false
   },
   "outputs": [],
   "source": [
    "df = pd.read_csv('data/Klout scores (Lesson 7) - Sheet1.csv',usecols=([0]), header=None)\n",
    "# a quick look to the data\n",
    "plt.hist(df,bins=20);\n",
    "df.describe()"
   ]
  },
  {
   "cell_type": "markdown",
   "metadata": {},
   "source": [
    "####  CLT Experiment"
   ]
  },
  {
   "cell_type": "code",
   "execution_count": null,
   "metadata": {
    "collapsed": false
   },
   "outputs": [],
   "source": [
    "# take a samples of size 35 (n=35)\n",
    "n = 35\n",
    "\n",
    "def sampler(n):\n",
    "    sample_means = []\n",
    "    for i in range(1000):\n",
    "        sample = df.loc[np.random.permutation(len(df))[:n]]\n",
    "        sample_means.append(np.asscalar(sample.mean().values))\n",
    "    return sample_means\n",
    "\n",
    "print 'The standart error of the mean derived from CLT is {}'.format(round((df.std(ddof=0)/np.sqrt(n)).values[0],4)) \n",
    "print 'True SE of the mean is {}\\n'.format(round(np.asarray(sample_means).std(),4))\n",
    "print 'The population mean is {}'.format(round(df.mean(),4))\n",
    "print 'The expected value of the means is {}'.format(round(np.asarray(sample_means).mean(),4))\n",
    "\n",
    "fig,ax = plt.subplots(figsize=(14,4))\n",
    "ax.hist(df,color='r',bins=20);\n",
    "ax.hist(sampler(n),color='b',bins=20,alpha=.5);\n",
    "ax.axvline(np.asarray(sampler(n)).mean(), color='y', linestyle='dashed',linewidth=2,alpha=.8)\n",
    "ax.axvline(40, color='g', linestyle='dashed',linewidth=2,alpha=.8);"
   ]
  },
  {
   "cell_type": "code",
   "execution_count": null,
   "metadata": {
    "collapsed": false
   },
   "outputs": [],
   "source": [
    "# using a Bieber Twitter affects the Klout score?\n",
    "xbar_bieber = 40\n",
    "mu = round(df.mean(),2)\n",
    "SE = round(df.std(ddof=1)/np.sqrt(n),2)\n",
    "\n",
    "# calculate the probabilty of randomly drawing a sample of size 35 with mean of at least 40\n",
    "z = (xbar_bieber-mu)/SE\n",
    "print 'the z-score is {}'.format(round(z,2))\n",
    "print norm.sf(z)\n",
    "# or\n",
    "print 'the likelohood of randomly selecting from the KLOUT population'\n",
    "print 'a sample of size {} and whose mean is at least 40 is {}%'.format(n,round(norm.sf(xbar_bieber,mu,SE),4)*100)"
   ]
  },
  {
   "cell_type": "code",
   "execution_count": null,
   "metadata": {
    "collapsed": false
   },
   "outputs": [],
   "source": [
    "# What if the sample size n is 250 and they have mean KLOUT score 40\n",
    "# Now, what is the likelohood of randomly selecting from the KLOUT population\n",
    "# a sample of size 250 and whose mean is at least 40\n",
    "n=250\n",
    "SE = round(df.std(ddof=1)/np.sqrt(n),2)\n",
    "\n",
    "\n",
    "print 'the likelohood of randomly selecting from the KLOUT population'\n",
    "print 'a sample of size {} and whose mean is at least 40 is {}%'.format(n,round(norm.sf(xbar_bieber,mu,SE),5)*100)\n",
    "\n",
    "fig,ax = plt.subplots(figsize=(14,4))\n",
    "ax.hist(df,color='r',bins=20);\n",
    "ax.hist(sampler(n),color='b',bins=20,alpha=.5);\n",
    "ax.axvline(np.asarray(sampler(n)).mean(), color='y', linestyle='dashed',linewidth=2,alpha=.8)\n",
    "ax.axvline(40, color='g', linestyle='dashed',linewidth=2,alpha=.8);"
   ]
  }
 ],
 "metadata": {
  "kernelspec": {
   "display_name": "Python [Root]",
   "language": "python",
   "name": "Python [Root]"
  },
  "language_info": {
   "codemirror_mode": {
    "name": "ipython",
    "version": 2
   },
   "file_extension": ".py",
   "mimetype": "text/x-python",
   "name": "python",
   "nbconvert_exporter": "python",
   "pygments_lexer": "ipython2",
   "version": "2.7.12"
  }
 },
 "nbformat": 4,
 "nbformat_minor": 0
}
